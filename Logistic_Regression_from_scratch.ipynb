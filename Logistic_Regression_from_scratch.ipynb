{
  "cells": [
    {
      "cell_type": "markdown",
      "id": "39a6157b",
      "metadata": {
        "id": "39a6157b"
      },
      "source": [
        "***\n",
        "Implementing logistic regression and a basic optimization method for estimating the regression parameters.\n",
        "\n",
        "Suppose some inputs $X \\in \\mathbb{R}^{N \\times D}$ with $N$ observations and $D$ covariates.\n",
        "\n",
        "The targets are $y \\in \\{0,1\\}^{N}$.\n",
        "\n",
        "Our regression parameters are $\\beta \\in \\mathbb{R}^{D}$ and the link function between our linear model $X\\beta$ and the targets is the logistic function $\\sigma(X\\beta) = \\frac{1}{1+\\exp{\\{-X\\beta\\}}}$.\n",
        "\n",
        "Assume that we have i.i.d. observations that follow a Bernoulli likelihood: $ L(\\beta) = \\prod_{i=1}^{N} \\sigma(X_i\\beta)^{y_i} (1-\\sigma(X_i\\beta))^{1-y_i} $.\n",
        "\n",
        "*In logistic regression, we are maximizing the (log) likelihood.*\n",
        "\n",
        "For the gradient of the log likelihood function with respect to the regression parameters, $\\beta$:\n",
        "\n",
        "$ \\frac{d \\log L_i(\\beta)}{d \\beta}= \\frac{d}{d\\beta} \\sum_{i: y_i = 1} y_i \\log \\sigma(X_i \\beta) + \\sum_{i: y_i = 0} (1-y_i )\\log (1- \\sigma(X_i \\beta))$.\n",
        "\n",
        "$\\frac{d \\log L(\\beta)}{d \\beta}= \\sum_{i: y_i = 1} \\frac{y_i}{\\sigma(X_i\\beta)} \\frac{d}{d\\beta}\\sigma(X_i\\beta) - \\sum_{i: y_i = 0} \\frac{1-y_i}{1-\\sigma(X_i\\beta)}\\frac{d}{d\\beta}\\sigma(X_i\\beta)$\n",
        "\n",
        "$\\frac{d \\log L(\\beta)}{d \\beta}= \\sum_{i=1}^{N} \\left( \\frac{y_i- \\sigma(X_i \\beta)}{\\sigma(X_i\\beta)(1-\\sigma(X_i\\beta))} \\right) \\frac{d}{d\\beta}\\sigma(X_i\\beta)$\n",
        "\n",
        "$\\frac{d \\log L(\\beta)}{d \\beta}= \\sum_{i=1}^{N} \\left( \\frac{y_i- \\sigma(X_i \\beta)}{\\sigma(X_i\\beta)(1-\\sigma(X_i\\beta))} \\right) \\frac{X_i \\exp{ \\{X_i \\beta \\}}}{(1+\\exp{\\{X_i \\beta\\}})^{2}}$\n",
        "\n",
        "$\\frac{d \\log L(\\beta)}{d \\beta}= \\sum_{i=1}^{N} \\left( \\frac{y_i- \\sigma(X_i \\beta)}{\\sigma(X_i\\beta)(1-\\sigma(X_i\\beta))} \\right) X_i \\sigma(X_i\\beta)(1-\\sigma(X_i\\beta))$\n",
        "\n",
        "$\\frac{d \\log L(\\beta)}{d \\beta}= \\sum_{i=1}^{N} \\left(y_i- \\sigma(X_i \\beta) \\right) X_i $\n"
      ]
    },
    {
      "cell_type": "code",
      "execution_count": 41,
      "id": "45d2eb92",
      "metadata": {
        "id": "45d2eb92"
      },
      "outputs": [],
      "source": [
        "import numpy as np\n",
        "import matplotlib.pyplot as plt\n",
        "from scipy.special import expit\n",
        "#@pysnooper.snoop()\n",
        "class LogisticRegression(object):\n",
        "\n",
        "    def __init__(self, X, Y):\n",
        "        \"\"\"\n",
        "        The __init__ method is called anytime you instantiate a class. This function should take in two arguemnts:\n",
        "            X: A NxD dimensional real valued numpy array represeting the covariates.\n",
        "            y: A N dimensional binary valued numpy array representing the targets.\n",
        "\n",
        "        \"\"\"\n",
        "        self.X = X\n",
        "        self.N, self.D = self.X.shape\n",
        "        self.Y = Y\n",
        "        assert(self.Y.size == self.N) # make sure y is the appropriate size\n",
        "\n",
        "        # instantiate regression parameter objects\n",
        "        self.beta = np.zeros(self.D)\n",
        "\n",
        "    def log_likelihood(self, beta):\n",
        "        sigma = expit(self.X @ beta)\n",
        "        sigma = np.clip(sigma, 1e-6, 1 - (1e-6))\n",
        "        LL = np.sum(self.Y * np.log(sigma) + (1.-self.Y) * np.log(1-sigma))\n",
        "        return LL\n",
        "\n",
        "    def grad_log_likelihood(self, beta):\n",
        "        sigma = expit(self.X @ beta)\n",
        "        sigma = np.clip(sigma, 1e-6, 1 - (1e-6))\n",
        "        grad_LL = self.X.T.dot(self.Y - sigma) #/self.D  // ((self.Y - sigma)[:,None] * self.X).sum(axis=0)\n",
        "        return grad_LL\n",
        "\n",
        "    def fit(self, step=.01, iters=100000):\n",
        "        # The \"step\" and \"iters\" are arguements you must have in the fit method\n",
        "        # that tell you the step size of the optimizer and the number of\n",
        "        # of iterations your optimizer should run.\n",
        "        gradient_beta = self.grad_log_likelihood(self.beta)\n",
        "        loglikelihood_loss = np.zeros(iters)\n",
        "        for t in range(iters):\n",
        "\n",
        "          gradient_beta = self.grad_log_likelihood(self.beta)\n",
        "          self.beta += step * gradient_beta\n",
        "          loglikelihood_loss[t] = self.log_likelihood(self.beta)\n",
        "\n",
        "        beta = self.beta\n",
        "        plt.plot(loglikelihood_loss)\n",
        "        plt.title(\"Optimization Iterations\")\n",
        "        plt.xlabel(\"Iterations\")\n",
        "        plt.ylabel(\"log_likelihood\")\n",
        "        plt.show()\n",
        "        return beta\n",
        "\n",
        "    def predict(self, X_test):\n",
        "        \"\"\"\n",
        "        This function will take in some test set data \"X_test\" and return a predicted value\n",
        "        \"\"\"\n",
        "        assert(X_test.shape[1] == self.D)\n",
        "        predicted_values = expit(X_test @ self.beta)\n",
        "        return predicted_values\n"
      ]
    },
    {
      "cell_type": "markdown",
      "id": "fc07f05f",
      "metadata": {
        "id": "fc07f05f"
      },
      "source": [
        "Test out logistic regression Using the synthetic data generated in the below cell to test out,\n",
        "\n",
        "The log likelihood should increase as the number of iterations increases."
      ]
    },
    {
      "cell_type": "code",
      "source": [
        "N = 100\n",
        "D = 10\n",
        "X = np.random.normal(size=(N,D))\n",
        "beta0 = np.random.normal(size=D)\n",
        "P = expit(X @ beta0)\n",
        "Y = np.random.binomial(1,P)\n",
        "\n",
        "LR = LogisticRegression(X=X,Y=Y)\n",
        "step = 0.00001  # choose a step size\n",
        "iters = 100000  # choose a number of iterations\n",
        "LR.fit(step=step, iters=iters)"
      ],
      "metadata": {
        "colab": {
          "base_uri": "https://localhost:8080/",
          "height": 509
        },
        "id": "XOvryJCbSlHt",
        "outputId": "419aad7c-ccc6-4689-f502-016622f04e6f"
      },
      "id": "XOvryJCbSlHt",
      "execution_count": 42,
      "outputs": [
        {
          "output_type": "display_data",
          "data": {
            "text/plain": [
              "<Figure size 640x480 with 1 Axes>"
            ],
            "image/png": "[encoded data removed]"
          },
          "metadata": {}
        },
        {
          "output_type": "execute_result",
          "data": {
            "text/plain": [
              "array([-0.42573053,  0.67153733,  3.10263162, -1.16592886,  1.16686942,\n",
              "        0.51190545,  0.7515451 ,  1.16842763,  0.35394325,  0.52954544])"
            ]
          },
          "metadata": {},
          "execution_count": 42
        }
      ]
    },
    {
      "cell_type": "markdown",
      "id": "1b64c7ce",
      "metadata": {
        "id": "1b64c7ce"
      },
      "source": [
        "The \"breast_cancer_dataset\" from scikit learn and fit your logistic regression model on a training set consisting of the first 500 observations and evaluate the test set on the remaining data.\n",
        "\n",
        "The cross entropy metric is equivalent to the negative Bernoulli log likelihood of the logistic regression model evaluated on the test data, divided by the number of test evaluations: $\\text{CE}= -\\frac{1}{N^{\\ast}} \\sum \\log P(y_{i}^{\\ast} | \\beta, X, y, x_{i}^{\\ast})$ for a test set size of $N^{\\ast}$ with test set data $y^{\\ast}$ and $X^{\\ast}$.\n",
        "https://en.wikipedia.org/wiki/Cross_entropy"
      ]
    },
    {
      "cell_type": "code",
      "source": [
        "from sklearn.datasets import load_breast_cancer\n",
        "breast_cancer = load_breast_cancer()\n",
        "X = breast_cancer['data']\n",
        "# for numerical stability, standardize inputs\n",
        "X -= X.mean(axis=0)\n",
        "X /= X.std(axis=0)\n",
        "# add intercept\n",
        "X = np.hstack((X, np.ones((X.shape[0], 1))))\n",
        "Y = breast_cancer['target']\n",
        "X_train, X_test = X[:500], X[500:]\n",
        "Y_train, Y_test = Y[:500], Y[500:]\n",
        "\n",
        "LR = LogisticRegression(X=X_train,Y=Y_train)\n",
        "step = 0.0001  # choose a step size\n",
        "iters = 100000  # choose a number of iterations\n",
        "LR.fit(step=step, iters=iters)"
      ],
      "metadata": {
        "colab": {
          "base_uri": "https://localhost:8080/",
          "height": 600
        },
        "id": "lMZIq1pLWMX_",
        "outputId": "bad4a32b-04d5-4b05-fd74-dc251af6344d"
      },
      "id": "lMZIq1pLWMX_",
      "execution_count": 44,
      "outputs": [
        {
          "output_type": "display_data",
          "data": {
            "text/plain": [
              "<Figure size 640x480 with 1 Axes>"
            ],
            "image/png": "[encoded data removed]"
          },
          "metadata": {}
        },
        {
          "output_type": "execute_result",
          "data": {
            "text/plain": [
              "array([ 0.76065306, -0.05714087,  0.66940097,  0.20109162, -0.14088924,\n",
              "        2.89410892, -1.88239702, -1.74676463,  0.41039874, -0.64030135,\n",
              "       -3.26982711,  1.15518925, -0.33326142, -2.9137474 , -0.47922331,\n",
              "        0.02773466,  1.5002661 , -1.82030103,  0.42660807,  2.13948332,\n",
              "       -2.89664797, -2.9720322 , -2.07402301, -2.98517685, -0.77346084,\n",
              "        0.94169365, -1.78272445, -1.27411237, -1.50563933, -1.69039079,\n",
              "       -1.00104329])"
            ]
          },
          "metadata": {},
          "execution_count": 44
        }
      ]
    },
    {
      "cell_type": "code",
      "source": [
        "Y_test"
      ],
      "metadata": {
        "colab": {
          "base_uri": "https://localhost:8080/"
        },
        "id": "oom1K6bZWQoI",
        "outputId": "10bbecf1-a44f-4ef6-d48e-d8cfedf7577f"
      },
      "id": "oom1K6bZWQoI",
      "execution_count": 45,
      "outputs": [
        {
          "output_type": "execute_result",
          "data": {
            "text/plain": [
              "array([1, 0, 1, 0, 1, 1, 1, 1, 1, 0, 1, 1, 0, 1, 0, 1, 0, 0, 1, 1, 1, 0,\n",
              "       1, 1, 1, 1, 1, 1, 1, 1, 1, 1, 1, 0, 1, 0, 0, 1, 1, 1, 1, 1, 1, 1,\n",
              "       1, 1, 1, 1, 1, 1, 1, 1, 1, 1, 1, 1, 1, 1, 1, 1, 1, 1, 0, 0, 0, 0,\n",
              "       0, 0, 1])"
            ]
          },
          "metadata": {},
          "execution_count": 45
        }
      ]
    },
    {
      "cell_type": "code",
      "source": [
        "P_test = LR.predict(X_test)\n",
        "LL = (Y_test * np.log(P_test)) + ( (1. - Y_test) * np.log(1. - P_test))\n",
        "LL = -LL.mean()\n",
        "print(\"Predictive Cross Entropy Error: %.2f\" % LL)"
      ],
      "metadata": {
        "colab": {
          "base_uri": "https://localhost:8080/"
        },
        "id": "qaVSt-KOWQLB",
        "outputId": "28810fd2-bed7-4ba9-ad50-2c57482a8f58"
      },
      "id": "qaVSt-KOWQLB",
      "execution_count": 47,
      "outputs": [
        {
          "output_type": "stream",
          "name": "stdout",
          "text": [
            "Predictive Cross Entropy Error: 0.04\n"
          ]
        }
      ]
    },
    {
      "cell_type": "markdown",
      "source": [
        "return the names of the most important covariates according to the absolute value of its regression weights"
      ],
      "metadata": {
        "id": "khWU2XgHXRaj"
      },
      "id": "khWU2XgHXRaj"
    },
    {
      "cell_type": "code",
      "source": [
        "covariates = np.hstack((breast_cancer['feature_names'], 'intercept'))\n",
        "print(covariates[np.argsort(np.abs(LR.beta))[::-1]]) # print the covariates in order of most to least important"
      ],
      "metadata": {
        "colab": {
          "base_uri": "https://localhost:8080/"
        },
        "id": "KoXOGm9AXVy6",
        "outputId": "05bb2761-f4a6-40e6-9400-29f9283169e8"
      },
      "id": "KoXOGm9AXVy6",
      "execution_count": 48,
      "outputs": [
        {
          "output_type": "stream",
          "name": "stdout",
          "text": [
            "['radius error' 'worst area' 'worst texture' 'area error' 'worst radius'\n",
            " 'mean compactness' 'fractal dimension error' 'worst perimeter'\n",
            " 'mean concavity' 'concave points error' 'worst concavity'\n",
            " 'mean concave points' 'worst fractal dimension' 'worst symmetry'\n",
            " 'concavity error' 'worst concave points' 'texture error' 'intercept'\n",
            " 'worst compactness' 'worst smoothness' 'mean radius' 'mean perimeter'\n",
            " 'mean fractal dimension' 'smoothness error' 'symmetry error'\n",
            " 'mean symmetry' 'perimeter error' 'mean area' 'mean smoothness'\n",
            " 'mean texture' 'compactness error']\n"
          ]
        }
      ]
    }
  ],
  "metadata": {
    "kernelspec": {
      "display_name": "Python 3 (ipykernel)",
      "language": "python",
      "name": "python3"
    },
    "language_info": {
      "codemirror_mode": {
        "name": "ipython",
        "version": 3
      },
      "file_extension": ".py",
      "mimetype": "text/x-python",
      "name": "python",
      "nbconvert_exporter": "python",
      "pygments_lexer": "ipython3",
      "version": "3.9.8"
    },
    "colab": {
      "provenance": []
    }
  },
  "nbformat": 4,
  "nbformat_minor": 5
}