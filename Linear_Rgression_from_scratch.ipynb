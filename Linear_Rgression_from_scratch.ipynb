{
  "cells": [
    {
      "cell_type": "markdown",
      "metadata": {
        "id": "vTuhLQ0kz5Hu"
      },
      "source": [
        "Assume a regression model $Y = X\\beta + \\epsilon$, where $\\epsilon \\sim \\mathcal{N}(0,\\sigma^2 I)$.\n",
        "\n",
        "For the maximum likelihood estimator for the regression weights, $\\beta$:\n",
        "\n",
        "$P(y|\\beta,\\sigma^2) = \\left( \\frac{1}{\\sigma\\sqrt{2\\pi}} \\right)^N \\exp\\left\\{ \\frac{-1}{2\\sigma^2} (Y-X\\beta)^{T}(Y-X\\beta) \\right\\}$\n",
        "\n",
        "$\\log P(y|\\beta,\\sigma^2) \\propto (Y-X\\beta)^{T}(Y-X\\beta)$\n",
        "\n",
        "$\\frac{\\partial \\log P(y|\\beta,\\sigma^2)}{\\partial \\beta} = -2X^TY + 2X^TX\\beta$\n",
        "\n",
        "$\\hat{\\beta} = (X^TX)^{-1}X^TY$\n",
        "\n",
        "---\n",
        "And the noise parameter, $\\sigma^2$.\n",
        "\n",
        "$P(y|\\beta,\\sigma^2) = \\left( \\frac{1}{\\sqrt{2\\pi\\sigma^2}} \\right)^N \\exp\\left\\{ \\frac{-1}{2\\sigma^2} (Y-X\\beta)^{T}(Y-X\\beta) \\right\\}$\n",
        "\n",
        "$\\log P(y|\\beta,\\sigma^2) \\propto -\\frac{N}{2}\\log \\sigma^2 - \\frac{1}{2\\sigma^2}(Y-X\\beta)^{T}(Y-X\\beta)$\n",
        "\n",
        "$\\frac{\\partial \\log P(y|\\beta,\\sigma^2)}{\\partial \\sigma^2} = -\\frac{N}{2\\sigma^2} + \\frac{1}{2(\\sigma^2)^2}(Y-X\\beta)^{T}(Y-X\\beta)$\n",
        "\n",
        "$\\hat{\\sigma^2} = \\frac{1}{N}\\sum_{i=1}^{N}(Y_i - X_i\\hat{\\beta})^2$\n"
      ]
    },
    {
      "cell_type": "code",
      "execution_count": 9,
      "metadata": {
        "id": "IX0111grz5H3"
      },
      "outputs": [],
      "source": [
        "import numpy as np\n",
        "\n",
        "class LinearRegression(object):\n",
        "\n",
        "    def __init__(self, X, Y):\n",
        "        \"\"\"\n",
        "        The __init__ method is called anytime you instantiate a class. This function should take in two arguemnts:\n",
        "            X: A NxD dimensional real valued numpy array represeting the covariates.\n",
        "            y: A N dimensional real valued numpy array representing the targets.\n",
        "        \"self\" is used to represent an instance of a class object, variables prepended with \"self.\" can be accessed\n",
        "        by other methods within the class. You can read more about how \"self\" works in a Python class here:\n",
        "\n",
        "        https://www.tutorialspoint.com/self-in-python-class\n",
        "\n",
        "        \"\"\"\n",
        "        self.X = X\n",
        "        self.N, self.D = self.X.shape\n",
        "        self.Y = Y\n",
        "        assert(self.Y.size == self.N) # make sure y is the appropriate size\n",
        "\n",
        "        # instantiate regression parameter objects\n",
        "        self.beta = np.zeros(self.D)\n",
        "        self.sigma2 = 1.\n",
        "\n",
        "    def fit(self):\n",
        "        \"\"\"\n",
        "        This function will estimate the parameters of the linear regression model, beta and sigma2\n",
        "        \"\"\"\n",
        "        self.beta = np.linalg.inv(self.X.T.dot(self.X)).dot(self.X.T.dot(self.Y))\n",
        "        self.sigma2 = ((self.Y - self.X.dot(self.beta)).T.dot(self.Y - self.X.dot(self.beta)))/ self.N  # == np.mean((self.Y - (self.X @ self.beta))**2) \\\\(self.N - self.D- 1)\n",
        "\n",
        "    def predict(self, X_test):\n",
        "        \"\"\"\n",
        "        This function will take in some test set data \"X_test\" and return a predicted value \"Y_test\"\n",
        "        \"\"\"\n",
        "        assert(X_test.shape[1] == self.D)\n",
        "        Y_test = X_test.dot(self.beta)\n",
        "        return Y_test\n",
        ""
      ]
    },
    {
      "cell_type": "markdown",
      "metadata": {
        "id": "QO6Kzn3vz5H7"
      },
      "source": [
        "train the linear regression on the \"Boston Housing\" dataset, which is a collection of median housing price data in the U.S. city of Boston and associated covariate data: http://lib.stat.cmu.edu/datasets/boston.\n",
        "\n",
        "An intercept term (a column of \"ones\" for the input data) should be included. The intercept term represents the mean value of the response when all covariates are equal to zero. Split the dataset into a training set consisting of the first 400 observations and a test set consisting of the last 106 observations. Train the model on the training data and predict the median housing prices on the test set. Compute the mean squared error between the predicted housing prices and the actual housing prices."
      ]
    },
    {
      "cell_type": "code",
      "source": [
        "boston = np.loadtxt(\"BostonHousing.csv\", skiprows=1, delimiter=\",\")\n",
        "\n",
        "X, Y = boston[:,:-1], boston[:,-1]     #\n",
        "\n",
        "X = np.hstack((X, np.ones((X.shape[0],1)))) # data_intercept = np.insert(boston,-1,1,1)\n",
        "\n",
        "X_train, X_test = X[:400], X[400:]     # X_train,  X_tru_test = data_intercept[:400,:-1],data_intercept[400:,:-1]\n",
        "Y_train, Y_test = Y[:400], Y[400:]     # Y_train,  Y_tru_test = data_intercept[:400,-1],data_intercept[400:,-1]\n",
        "\n",
        "LR = LinearRegression(X_train,Y_train)\n",
        "LR.fit()\n",
        "Y_pred = LR.predict(X_test)\n",
        "\n",
        "MSE = ((Y_test - Y_pred).T.dot(Y_test - Y_pred)) / Y_pred.shape[0] # == np.mean((predicted_Y-test_Y)**2)  \\\\(X_train.shape[0]- X_train.shape[1] - 1)\n",
        "\n",
        "print(\"Test MSE: %.2f\" % MSE)"
      ],
      "metadata": {
        "colab": {
          "base_uri": "https://localhost:8080/"
        },
        "id": "J_OrAEtC37XP",
        "outputId": "8855b373-a753-4448-b9bb-829412f4392d"
      },
      "execution_count": 43,
      "outputs": [
        {
          "output_type": "stream",
          "name": "stdout",
          "text": [
            "Test MSE: 37.89\n"
          ]
        }
      ]
    },
    {
      "cell_type": "markdown",
      "source": [
        "Rank the weighted covariates from most important to least according to size of the regression coefficient."
      ],
      "metadata": {
        "id": "zrWGQGk2CWtf"
      }
    },
    {
      "cell_type": "code",
      "source": [
        "LR.beta"
      ],
      "metadata": {
        "colab": {
          "base_uri": "https://localhost:8080/"
        },
        "id": "zlQaUe7PC5eo",
        "outputId": "b0ba2ac7-750a-4369-a530-bc1b4afcde21"
      },
      "execution_count": 44,
      "outputs": [
        {
          "output_type": "execute_result",
          "data": {
            "text/plain": [
              "array([-1.91246374e-01,  4.42289967e-02,  5.52207977e-02,  1.71631351e+00,\n",
              "       -1.49957220e+01,  4.88773025e+00,  2.60921031e-03, -1.29480799e+00,\n",
              "        4.84787214e-01, -1.54006673e-02, -8.08795026e-01, -1.29230427e-03,\n",
              "       -5.17953791e-01,  2.86725996e+01])"
            ]
          },
          "metadata": {},
          "execution_count": 44
        }
      ]
    },
    {
      "cell_type": "code",
      "source": [
        "covariates = np.loadtxt(\"BostonHousing.csv\", max_rows=1, delimiter=\",\", dtype=str)\n",
        "covariates = np.hstack((covariates[:-1],\"intercept\"))\n",
        "print(covariates[np.argsort(np.abs(LR.beta))[::-1]])"
      ],
      "metadata": {
        "colab": {
          "base_uri": "https://localhost:8080/"
        },
        "id": "P-jgpzSzCY9T",
        "outputId": "58b987dc-dd45-48bb-ddb5-8819c9aa0b27"
      },
      "execution_count": 45,
      "outputs": [
        {
          "output_type": "stream",
          "name": "stdout",
          "text": [
            "['intercept' 'nox' 'rm' 'chas' 'dis' 'ptratio' 'lstat' 'rad' 'crim'\n",
            " 'indus' 'zn' 'tax' 'age' 'b']\n"
          ]
        }
      ]
    },
    {
      "cell_type": "code",
      "source": [],
      "metadata": {
        "id": "j0OwIjc4M5P6"
      },
      "execution_count": null,
      "outputs": []
    },
    {
      "cell_type": "code",
      "source": [
        "LR.sigma2"
      ],
      "metadata": {
        "colab": {
          "base_uri": "https://localhost:8080/"
        },
        "id": "9_C6kZuq7KQm",
        "outputId": "0eed7964-0d21-4858-8b53-17d5b7e2b65e"
      },
      "execution_count": 8,
      "outputs": [
        {
          "output_type": "execute_result",
          "data": {
            "text/plain": [
              "22.305225584163445"
            ]
          },
          "metadata": {},
          "execution_count": 8
        }
      ]
    }
  ],
  "metadata": {
    "kernelspec": {
      "display_name": "Python 3 (ipykernel)",
      "language": "python",
      "name": "python3"
    },
    "language_info": {
      "codemirror_mode": {
        "name": "ipython",
        "version": 3
      },
      "file_extension": ".py",
      "mimetype": "text/x-python",
      "name": "python",
      "nbconvert_exporter": "python",
      "pygments_lexer": "ipython3",
      "version": "3.9.10"
    },
    "colab": {
      "provenance": []
    }
  },
  "nbformat": 4,
  "nbformat_minor": 0
}